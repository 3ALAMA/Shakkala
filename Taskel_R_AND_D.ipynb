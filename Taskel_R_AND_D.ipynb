{
 "cells": [
  {
   "cell_type": "markdown",
   "metadata": {
    "deletable": true,
    "editable": true
   },
   "source": [
    "## 0- Initials تحضيري"
   ]
  },
  {
   "cell_type": "code",
   "execution_count": 1,
   "metadata": {
    "collapsed": false,
    "deletable": true,
    "editable": true
   },
   "outputs": [],
   "source": [
    "import helper\n",
    "import numpy as np\n",
    "import pickle\n",
    "import os\n",
    "\n",
    "#folders and saving\n",
    "cache_text_file = \"semi_processed_text.npy\"\n",
    "cache_xml_file  = \"semi_processed_xml.npy\"\n",
    "cache_dir       = os.path.join(\"data\", \"cache\")\n",
    "data_path       = os.path.join(\"data\", \"unprocessed\")\n",
    "data_processed  = os.path.join(\"data\", \"processed\")"
   ]
  },
  {
   "cell_type": "markdown",
   "metadata": {
    "deletable": true,
    "editable": true
   },
   "source": [
    "## 1- Load Data تحميل البيانات"
   ]
  },
  {
   "cell_type": "code",
   "execution_count": 2,
   "metadata": {
    "collapsed": false,
    "deletable": true,
    "editable": true
   },
   "outputs": [],
   "source": [
    "def read_all_text(data_path):\n",
    "    #list files\n",
    "    files = helper.list_files(data_path, 'txt')\n",
    "    #read all data and combine\n",
    "    documents  = []\n",
    "    for file in files:\n",
    "        documents.append(helper.load_text_data(file))\n",
    "    \n",
    "    return documents"
   ]
  },
  {
   "cell_type": "code",
   "execution_count": 3,
   "metadata": {
    "collapsed": false,
    "deletable": true,
    "editable": true
   },
   "outputs": [],
   "source": [
    "def read_all_xml(data_path):\n",
    "    #list files\n",
    "    files = helper.list_files(data_path, 'xml')\n",
    "    #read all data and combine\n",
    "    documents  = []\n",
    "    for file in files:\n",
    "        documents.append(helper.load_xml_data(file))\n",
    "    \n",
    "    return documents"
   ]
  },
  {
   "cell_type": "code",
   "execution_count": 4,
   "metadata": {
    "collapsed": false,
    "deletable": true,
    "editable": true
   },
   "outputs": [],
   "source": [
    "if os.path.exists(os.path.join(cache_dir, cache_text_file)):\n",
    "    text_docs = np.load(os.path.join(cache_dir, cache_text_file))\n",
    "else:\n",
    "    text_docs = np.array(read_all_text(data_path))\n",
    "\n",
    "\n",
    "if os.path.exists(os.path.join(cache_dir, cache_xml_file)):\n",
    "    xml_docs = np.load(os.path.join(cache_dir, cache_xml_file))\n",
    "else:\n",
    "    xml_docs  = np.array(read_all_xml(data_path))\n",
    "\n"
   ]
  },
  {
   "cell_type": "markdown",
   "metadata": {
    "deletable": true,
    "editable": true
   },
   "source": [
    "### Load/Save Cache تخزين مؤقت"
   ]
  },
  {
   "cell_type": "code",
   "execution_count": 5,
   "metadata": {
    "collapsed": true,
    "deletable": true,
    "editable": true
   },
   "outputs": [],
   "source": [
    "if os.path.exists(os.path.join(cache_dir, cache_text_file)) == False:\n",
    "    np.save(os.path.join(cache_dir, cache_text_file), text_docs)\n",
    "\n",
    "np.save(os.path.join(cache_dir, cache_xml_file), xml_docs)"
   ]
  },
  {
   "cell_type": "markdown",
   "metadata": {
    "deletable": true,
    "editable": true
   },
   "source": [
    "### Data overview 1 نظرة على البيانات"
   ]
  },
  {
   "cell_type": "code",
   "execution_count": 5,
   "metadata": {
    "collapsed": false,
    "deletable": true,
    "editable": true
   },
   "outputs": [
    {
     "name": "stdout",
     "output_type": "stream",
     "text": [
      "text documents length:  (341,)\n",
      "text sample data:  الكتاب : الفواكه الدواني على رسالة ابن أبي زيد القيرواني\n",
      "\n",
      "\n",
      "xml document length:  (4,)\n",
      "xml sample data:   سلسلة النسيان\n"
     ]
    }
   ],
   "source": [
    "#unit test - overview on data\n",
    "print('text documents length: ', text_docs.shape)\n",
    "print('text sample data: ', text_docs[0][1])\n",
    "#-----\n",
    "print('\\n')\n",
    "#-----\n",
    "print('xml document length: ', xml_docs.shape)\n",
    "print('xml sample data: ', xml_docs[0][1])"
   ]
  },
  {
   "cell_type": "code",
   "execution_count": 6,
   "metadata": {
    "collapsed": false,
    "deletable": true,
    "editable": true
   },
   "outputs": [
    {
     "name": "stdout",
     "output_type": "stream",
     "text": [
      "count logest sentence in text\n",
      "text length:  13291\n",
      "count logest sentence in text\n",
      "xml length:  1619\n",
      " بِسْمِ اللَّهِ الرَّحْمَنِ الرَّحِيمِ الْحَمْدُ لِلَّهِ الَّذِي خَلَقَ خَلْقَهُ أَطْوَارًا , وَصَرّ\n"
     ]
    }
   ],
   "source": [
    "print('count logest sentence in text')\n",
    "max_text = max(len(sent) for doc in text_docs for sent in doc)\n",
    "print('text length: ', max_text)\n",
    "print('count logest sentence in text')\n",
    "max_text = max(len(sent) for doc in xml_docs for sent in doc)\n",
    "print('xml length: ', max_text)\n",
    "\n",
    "for doc in text_docs:\n",
    "    for sent in doc:\n",
    "        if (len(sent) > 10000):\n",
    "            print(sent[:100])"
   ]
  },
  {
   "cell_type": "markdown",
   "metadata": {
    "deletable": true,
    "editable": true
   },
   "source": [
    "## 2- Preprocess data تحضير البيانات"
   ]
  },
  {
   "cell_type": "markdown",
   "metadata": {
    "deletable": true,
    "editable": true
   },
   "source": [
    "### 2.1 Remove punctuation and none Arabic characters حذف علامات الترقيم و الحروف غير المرغوب بها"
   ]
  },
  {
   "cell_type": "code",
   "execution_count": null,
   "metadata": {
    "collapsed": true,
    "deletable": true,
    "editable": true
   },
   "outputs": [],
   "source": [
    "# remove punctuation\n",
    "\n",
    "# remove characters (not arabic)"
   ]
  },
  {
   "cell_type": "markdown",
   "metadata": {
    "deletable": true,
    "editable": true
   },
   "source": [
    "## 3- prepare input and output format تحضير المدخلات و المخرجات"
   ]
  },
  {
   "cell_type": "code",
   "execution_count": null,
   "metadata": {
    "collapsed": true,
    "deletable": true,
    "editable": true
   },
   "outputs": [],
   "source": []
  },
  {
   "cell_type": "markdown",
   "metadata": {
    "deletable": true,
    "editable": true
   },
   "source": [
    "## 4- Save input and output تخزين المدخلات و المخرجات"
   ]
  },
  {
   "cell_type": "code",
   "execution_count": null,
   "metadata": {
    "collapsed": true,
    "deletable": true,
    "editable": true
   },
   "outputs": [],
   "source": []
  },
  {
   "cell_type": "markdown",
   "metadata": {
    "deletable": true,
    "editable": true
   },
   "source": [
    "## 5- Tokinize & Data Normalization"
   ]
  },
  {
   "cell_type": "code",
   "execution_count": null,
   "metadata": {
    "collapsed": true,
    "deletable": true,
    "editable": true
   },
   "outputs": [],
   "source": []
  },
  {
   "cell_type": "markdown",
   "metadata": {
    "deletable": true,
    "editable": true
   },
   "source": [
    "## 6- Build RNN network بناء الشبكة"
   ]
  },
  {
   "cell_type": "code",
   "execution_count": null,
   "metadata": {
    "collapsed": true,
    "deletable": true,
    "editable": true
   },
   "outputs": [],
   "source": []
  },
  {
   "cell_type": "markdown",
   "metadata": {
    "deletable": true,
    "editable": true
   },
   "source": [
    "## 7- Train تدريب البيانات"
   ]
  },
  {
   "cell_type": "code",
   "execution_count": null,
   "metadata": {
    "collapsed": true,
    "deletable": true,
    "editable": true
   },
   "outputs": [],
   "source": []
  },
  {
   "cell_type": "markdown",
   "metadata": {
    "deletable": true,
    "editable": true
   },
   "source": [
    "## 8- Execute & Test التجربة و التنفيذ"
   ]
  },
  {
   "cell_type": "code",
   "execution_count": null,
   "metadata": {
    "collapsed": true,
    "deletable": true,
    "editable": true
   },
   "outputs": [],
   "source": []
  }
 ],
 "metadata": {
  "kernelspec": {
   "display_name": "Python 3",
   "language": "python",
   "name": "python3"
  },
  "language_info": {
   "codemirror_mode": {
    "name": "ipython",
    "version": 3
   },
   "file_extension": ".py",
   "mimetype": "text/x-python",
   "name": "python",
   "nbconvert_exporter": "python",
   "pygments_lexer": "ipython3",
   "version": "3.5.3"
  }
 },
 "nbformat": 4,
 "nbformat_minor": 2
}
